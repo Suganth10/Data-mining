{
 "cells": [
  {
   "cell_type": "markdown",
   "metadata": {},
   "source": [
    "# Grade Saver   - By Suganth Kumar Thangavel"
   ]
  },
  {
   "cell_type": "markdown",
   "metadata": {},
   "source": [
    "/*Documentation*/\n",
    "\n",
    "Problem: \n",
    "    We(Students) face difficulties in remembering Assignment deadlines and are also lazy enough(Atleast me) to check them in USF canvas site. So we end up submitting them late and lose grades.\n",
    "\n",
    "About this program:\n",
    "    This program is built to scrape USF canvas site and collect the Assignment details for the respective student and based on his reminder settings it will send an automatic notification to his mobile reminding about the assignment. Most of us check our mobile often so it will be good reminder for us.\n",
    "    \n",
    "    \n",
    "Required software/details/information:\n",
    "\n",
    "1.chrome driver should be present in the system. The driver w.r.t your Chrome can be downloaded below.\n",
    "link: http://chromedriver.storage.googleapis.com/index.html\n",
    "\n",
    "2.Student credentials for canvas site(Password can be stored in secure file and program can be pointed to access the data from file).\n",
    "\n",
    "3.Please ensure your calander in USF canvas site is selected with the subjects for you want the assignments to be tracked\n",
    "\n",
    "4.Twilio account creation(Account SID and Auth code) and the created twilio phone number-- Twilio is a sms gateway service which allows to send sms. You can create and use a trial account. Twilio account can be created at https://www.twilio.com/.\n",
    "\n"
   ]
  },
  {
   "cell_type": "code",
   "execution_count": 1,
   "metadata": {
    "collapsed": true
   },
   "outputs": [],
   "source": [
    "#Required Standard Libraries for scraping and text message api\n",
    "from selenium import webdriver\n",
    "from datetime import datetime,timedelta\n",
    "## Sending text messages \n",
    "import twilio.rest\n",
    "import time"
   ]
  },
  {
   "cell_type": "markdown",
   "metadata": {},
   "source": [
    "# Accessing Chrome Browser through Selenium and opening link"
   ]
  },
  {
   "cell_type": "code",
   "execution_count": 2,
   "metadata": {
    "collapsed": true
   },
   "outputs": [],
   "source": [
    "#Choose the chromedriver which suits your chrome version\n",
    "Chromedriver = r'C:/Users/sugan/Desktop/chromedriver.exe'\n",
    "driver = webdriver.Chrome(Chromedriver)\n",
    "url=\"https://webauth.usf.edu/login?service=https%3A%2F%2Fusflearn.instructure.com%2Flogin%2Fcas\"\n",
    "driver.get(url)"
   ]
  },
  {
   "cell_type": "code",
   "execution_count": 3,
   "metadata": {
    "collapsed": true
   },
   "outputs": [],
   "source": [
    "#Initializing required elements\n",
    "dates = []\n",
    "content = []\n",
    "info=[]\n",
    "final_dict={}"
   ]
  },
  {
   "cell_type": "markdown",
   "metadata": {},
   "source": [
    "# Sending Login details to open canvas"
   ]
  },
  {
   "cell_type": "code",
   "execution_count": 4,
   "metadata": {
    "collapsed": true
   },
   "outputs": [],
   "source": [
    "username = driver.find_element_by_id(\"username\")\n",
    "password = driver.find_element_by_id(\"password\")\n",
    "#Opening the password file to get my password. I wont show my password :P\n",
    "with open('Password.txt') as fp:\n",
    "    secret=fp.readline().strip(\" \")\n",
    "username.send_keys(\"suganthkumar\")\n",
    "password.send_keys(secret)"
   ]
  },
  {
   "cell_type": "markdown",
   "metadata": {},
   "source": [
    "# Opening Agenda page of calendar"
   ]
  },
  {
   "cell_type": "code",
   "execution_count": 5,
   "metadata": {
    "collapsed": true
   },
   "outputs": [],
   "source": [
    "submit_button = driver.find_element_by_id(\"btn-submit\")\n",
    "submit_button.click()\n",
    "calender = driver.find_element_by_id('global_nav_calendar_link')\n",
    "calender.click()\n",
    "agenda = driver.find_element_by_id(\"agenda\")\n",
    "agenda.click()\n",
    "time.sleep(5) #Delay is required as the page may take time to load"
   ]
  },
  {
   "cell_type": "markdown",
   "metadata": {},
   "source": [
    "# Scraping the Assignment details"
   ]
  },
  {
   "cell_type": "code",
   "execution_count": 6,
   "metadata": {},
   "outputs": [
    {
     "name": "stdout",
     "output_type": "stream",
     "text": [
      "[[['Assignment, Due 11:59pm ,', 'M3 Assignment', 'Not Completed', 'Calendar ISM6930.006S18 Stats Prog for Bus Analytics']], [['Assignment, Due 11:59pm ,', 'M4 Assignment', 'Not Completed', 'Calendar ISM6930.006S18 Stats Prog for Bus Analytics'], ['Assignment, Due 11:59pm ,', 'Assignment 2 - Object relational mapping', 'Not Completed', 'Calendar ISM6225.901S18 Distributed Information System'], ['Assignment, Due 11:59pm ,', 'Project 1 - SportsStore', 'Not Completed', 'Calendar ISM6225.901S18 Distributed Information System']], [['Assignment, Due 11:59pm ,', 'Cassandra Java', 'Not Completed', 'Calendar ISM6930.001S18 Big Data & Electronic Commerce']], [['Assignment, Due 11:59pm ,', 'S3 Assignment', 'Not Completed', 'Calendar ISM6930.001S18 Big Data & Electronic Commerce']], [['Assignment, Due 11:59pm ,', 'M5 Assignment', 'Not Completed', 'Calendar ISM6930.006S18 Stats Prog for Bus Analytics']], [['Assignment, Due 11:59pm ,', 'Cloudera Map-Reduce Tutorial - Utopia Vote Count', 'Not Completed', 'Calendar ISM6930.001S18 Big Data & Electronic Commerce']], [['Assignment, Due 11:59pm ,', 'M6 Assignment', 'Not Completed', 'Calendar ISM6930.006S18 Stats Prog for Bus Analytics']], [['Assignment, Due 11:59pm ,', 'M7 Assignment', 'Not Completed', 'Calendar ISM6930.006S18 Stats Prog for Bus Analytics']], [['Assignment, Due 11:59pm ,', 'Hive Tutorial', 'Not Completed', 'Calendar ISM6930.001S18 Big Data & Electronic Commerce']], [['Assignment, Due 11:59pm ,', 'M12 Assignment', 'Not Completed', 'Calendar ISM6930.006S18 Stats Prog for Bus Analytics'], ['Assignment, Due 11:59pm ,', 'M8 Assignment', 'Not Completed', 'Calendar ISM6930.006S18 Stats Prog for Bus Analytics']], [['Assignment, Due 11:59pm ,', 'M9 Assignment', 'Not Completed', 'Calendar ISM6930.006S18 Stats Prog for Bus Analytics']], [['Assignment, Due 11:59pm ,', 'Assignment : K-means Clustering using Pyspark Mllib...', 'Not Completed', 'Calendar ISM6930.001S18 Big Data & Electronic Commerce']], [['Assignment, Due 11:59pm ,', 'M10 Assignment', 'Not Completed', 'Calendar ISM6930.006S18 Stats Prog for Bus Analytics']], [['Assignment, Due 11:59pm ,', 'Lucene Tutorial', 'Not Completed', 'Calendar ISM6930.001S18 Big Data & Electronic Commerce']], [['Quiz, Due 12:30pm ,', 'Extra Credit Quiz', 'Not Completed', 'Calendar ISM6930.006S18 Stats Prog for Bus Analytics']], [['Quiz, Due 11:59pm ,', 'Test- Requires Respondus LockDown Browser', 'Not Completed', 'Calendar ISM6930.001S18 Big Data & Electronic Commerce']], [['Assignment, Due 11:59pm ,', 'M11 Assignment', 'Not Completed', 'Calendar ISM6930.006S18 Stats Prog for Bus Analytics']]]\n"
     ]
    }
   ],
   "source": [
    "### Getting the Assignment dates\n",
    "for day in driver.find_elements_by_class_name('agenda-day'):\n",
    "    el = day.find_element_by_class_name('agenda-date')\n",
    "    for text in el.find_elements_by_class_name('screenreader-only'):\n",
    "        dates.append(text.text)\n",
    "        \n",
    "###Scraping the Assignement details        \n",
    "for eventlist in driver.find_elements_by_class_name('agenda-event__list'):\n",
    "    item_list =[]\n",
    "    for item in eventlist.find_elements_by_class_name('agenda-event__item'): \n",
    "        info= []\n",
    "        for screentext in item.find_elements_by_class_name('screenreader-only'):\n",
    "            if(screentext.text not in['Open event menu']):\n",
    "                info.append(screentext.text)\n",
    "        item_list.append(info)\n",
    "    content.append(item_list) \n",
    "\n",
    "#Check to match the content with dates\n",
    "# if(len(dates)==len(content)):\n",
    "#     print(\"First Step successful\")\n",
    "    \n",
    "## Print the Scraped details \n",
    "print(content)"
   ]
  },
  {
   "cell_type": "markdown",
   "metadata": {},
   "source": [
    "# Dictionary to hold the Assignments based on date and time"
   ]
  },
  {
   "cell_type": "code",
   "execution_count": 7,
   "metadata": {},
   "outputs": [
    {
     "name": "stdout",
     "output_type": "stream",
     "text": [
      "Timestamp 2018-02-26 00:00:00\n",
      "---------\n",
      "[['Assignment, Due 11:59pm ,', 'M3 Assignment', 'Not Completed', 'Calendar ISM6930.006S18 Stats Prog for Bus Analytics']]\n",
      "\n",
      "Timestamp 2018-03-05 00:00:00\n",
      "---------\n",
      "[['Assignment, Due 11:59pm ,', 'M4 Assignment', 'Not Completed', 'Calendar ISM6930.006S18 Stats Prog for Bus Analytics'], ['Assignment, Due 11:59pm ,', 'Assignment 2 - Object relational mapping', 'Not Completed', 'Calendar ISM6225.901S18 Distributed Information System'], ['Assignment, Due 11:59pm ,', 'Project 1 - SportsStore', 'Not Completed', 'Calendar ISM6225.901S18 Distributed Information System']]\n",
      "\n",
      "Timestamp 2018-03-09 00:00:00\n",
      "---------\n",
      "[['Assignment, Due 11:59pm ,', 'Cassandra Java', 'Not Completed', 'Calendar ISM6930.001S18 Big Data & Electronic Commerce']]\n",
      "\n",
      "Timestamp 2018-03-16 00:00:00\n",
      "---------\n",
      "[['Assignment, Due 11:59pm ,', 'S3 Assignment', 'Not Completed', 'Calendar ISM6930.001S18 Big Data & Electronic Commerce']]\n",
      "\n",
      "Timestamp 2018-03-19 00:00:00\n",
      "---------\n",
      "[['Assignment, Due 11:59pm ,', 'M5 Assignment', 'Not Completed', 'Calendar ISM6930.006S18 Stats Prog for Bus Analytics']]\n",
      "\n",
      "Timestamp 2018-03-23 00:00:00\n",
      "---------\n",
      "[['Assignment, Due 11:59pm ,', 'Cloudera Map-Reduce Tutorial - Utopia Vote Count', 'Not Completed', 'Calendar ISM6930.001S18 Big Data & Electronic Commerce']]\n",
      "\n",
      "Timestamp 2018-03-26 00:00:00\n",
      "---------\n",
      "[['Assignment, Due 11:59pm ,', 'M6 Assignment', 'Not Completed', 'Calendar ISM6930.006S18 Stats Prog for Bus Analytics']]\n",
      "\n",
      "Timestamp 2018-04-02 00:00:00\n",
      "---------\n",
      "[['Assignment, Due 11:59pm ,', 'M7 Assignment', 'Not Completed', 'Calendar ISM6930.006S18 Stats Prog for Bus Analytics']]\n",
      "\n",
      "Timestamp 2018-04-06 00:00:00\n",
      "---------\n",
      "[['Assignment, Due 11:59pm ,', 'Hive Tutorial', 'Not Completed', 'Calendar ISM6930.001S18 Big Data & Electronic Commerce']]\n",
      "\n",
      "Timestamp 2018-04-09 00:00:00\n",
      "---------\n",
      "[['Assignment, Due 11:59pm ,', 'M12 Assignment', 'Not Completed', 'Calendar ISM6930.006S18 Stats Prog for Bus Analytics'], ['Assignment, Due 11:59pm ,', 'M8 Assignment', 'Not Completed', 'Calendar ISM6930.006S18 Stats Prog for Bus Analytics']]\n",
      "\n",
      "Timestamp 2018-04-16 00:00:00\n",
      "---------\n",
      "[['Assignment, Due 11:59pm ,', 'M9 Assignment', 'Not Completed', 'Calendar ISM6930.006S18 Stats Prog for Bus Analytics']]\n",
      "\n",
      "Timestamp 2018-04-20 00:00:00\n",
      "---------\n",
      "[['Assignment, Due 11:59pm ,', 'Assignment : K-means Clustering using Pyspark Mllib...', 'Not Completed', 'Calendar ISM6930.001S18 Big Data & Electronic Commerce']]\n",
      "\n",
      "Timestamp 2018-04-23 00:00:00\n",
      "---------\n",
      "[['Assignment, Due 11:59pm ,', 'M10 Assignment', 'Not Completed', 'Calendar ISM6930.006S18 Stats Prog for Bus Analytics']]\n",
      "\n",
      "Timestamp 2018-04-27 00:00:00\n",
      "---------\n",
      "[['Assignment, Due 11:59pm ,', 'Lucene Tutorial', 'Not Completed', 'Calendar ISM6930.001S18 Big Data & Electronic Commerce']]\n",
      "\n",
      "Timestamp 2018-04-29 00:00:00\n",
      "---------\n",
      "[['Quiz, Due 12:30pm ,', 'Extra Credit Quiz', 'Not Completed', 'Calendar ISM6930.006S18 Stats Prog for Bus Analytics']]\n",
      "\n",
      "Timestamp 2018-04-30 00:00:00\n",
      "---------\n",
      "[['Quiz, Due 11:59pm ,', 'Test- Requires Respondus LockDown Browser', 'Not Completed', 'Calendar ISM6930.001S18 Big Data & Electronic Commerce']]\n",
      "\n",
      "Timestamp 2018-05-04 00:00:00\n",
      "---------\n",
      "[['Assignment, Due 11:59pm ,', 'M11 Assignment', 'Not Completed', 'Calendar ISM6930.006S18 Stats Prog for Bus Analytics']]\n",
      "\n"
     ]
    }
   ],
   "source": [
    "#Creating a Dictionary to store the Assignment dates and details as a dictionary\n",
    "for n in range(0,len(dates)):\n",
    "    h=[]\n",
    "    for a in content[n]:\n",
    "        h.append(a)\n",
    "        final_dict[dates[n]]=h\n",
    "        \n",
    "#Current date and the date before which it has to notify about the assignment\n",
    "current_date = datetime.now()\n",
    "\n",
    "\n",
    "\n",
    "\n",
    "#Creating a new dictionary by changing the key to timestamp\n",
    "new_dict={}\n",
    "for keys in final_dict:\n",
    "    temp = keys+\" \"+str(current_date.year)\n",
    "    new_key = datetime.strptime(temp,\"%A, %B %d %Y\")\n",
    "    new_dict[new_key]=final_dict[keys]\n",
    "    \n",
    "    \n",
    "##Printing the final dictionary showing the timestamps   \n",
    "\n",
    "for k in new_dict.keys():\n",
    "    print(\"Timestamp\",k)\n",
    "    print(\"---------\")\n",
    "    print(new_dict[k])\n",
    "    print(\"\")"
   ]
  },
  {
   "cell_type": "markdown",
   "metadata": {},
   "source": [
    "# Filtering and concatenating the Assignments based on check date"
   ]
  },
  {
   "cell_type": "code",
   "execution_count": 8,
   "metadata": {
    "collapsed": true
   },
   "outputs": [],
   "source": [
    "## Addition to current_date\n",
    "check_date = current_date+timedelta(days=4)\n",
    "\n",
    "## Concatenating the messages into a variable\n",
    "messages=\"\" #Create a string\n",
    "counter = 1\n",
    "for keys in new_dict:\n",
    "    if((keys.date()>=current_date.date())&(keys.date()<=check_date.date())):\n",
    "        #print(keys)\n",
    "        messages = messages+\" \"+str(counter)+\".\"+str(keys.ctime())+str(new_dict[keys])\n",
    "        counter+=1   "
   ]
  },
  {
   "cell_type": "code",
   "execution_count": 9,
   "metadata": {},
   "outputs": [
    {
     "data": {
      "text/plain": [
       "''"
      ]
     },
     "execution_count": 9,
     "metadata": {},
     "output_type": "execute_result"
    }
   ],
   "source": [
    "messages"
   ]
  },
  {
   "cell_type": "markdown",
   "metadata": {},
   "source": [
    "# Twilio Account Authorization to send text messages"
   ]
  },
  {
   "cell_type": "code",
   "execution_count": 10,
   "metadata": {
    "collapsed": true
   },
   "outputs": [],
   "source": [
    "## A twilio account has to be created at https://www.twilio.com and the AccountSID and Auth should be provided to send sms\n",
    "AccountSID=\"AC7fbfc68a6df31ee22a5d56f3389fd199\"\n",
    "with open('Auth.txt') as fp:\n",
    "    auth=fp.readline().strip(\" \")\n",
    "    \n",
    "Auth = auth\n",
    "## Twilio Account Number and the phonenumber to which the msg has to be sent\n",
    "from_no =\"+12673858643\"\n",
    "to_no = \"+18136099735\""
   ]
  },
  {
   "cell_type": "markdown",
   "metadata": {},
   "source": [
    "# Function which calls twilio api and sends the messages"
   ]
  },
  {
   "cell_type": "code",
   "execution_count": 11,
   "metadata": {},
   "outputs": [
    {
     "name": "stdout",
     "output_type": "stream",
     "text": [
      "No message to send\n"
     ]
    }
   ],
   "source": [
    "#function to send text messages\n",
    "def text_messages(message):\n",
    "    client=twilio.rest.Client(AccountSID,Auth)\n",
    "    msg_info = client.messages.create(body=message,from_=from_no,to=to_no,provide_feedback=True)\n",
    "    return msg_info\n",
    "\n",
    "if(len(messages)>0):\n",
    "    msg_info = text_messages(message=messages)\n",
    "else:\n",
    "    print(\"No message to send\")"
   ]
  },
  {
   "cell_type": "code",
   "execution_count": null,
   "metadata": {
    "collapsed": true
   },
   "outputs": [],
   "source": []
  }
 ],
 "metadata": {
  "kernelspec": {
   "display_name": "Python 3",
   "language": "python",
   "name": "python3"
  },
  "language_info": {
   "codemirror_mode": {
    "name": "ipython",
    "version": 3
   },
   "file_extension": ".py",
   "mimetype": "text/x-python",
   "name": "python",
   "nbconvert_exporter": "python",
   "pygments_lexer": "ipython3",
   "version": "3.6.1"
  }
 },
 "nbformat": 4,
 "nbformat_minor": 2
}
